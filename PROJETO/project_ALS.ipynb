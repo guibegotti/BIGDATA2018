{
 "cells": [
  {
   "cell_type": "code",
   "execution_count": 1,
   "metadata": {},
   "outputs": [
    {
     "name": "stdout",
     "output_type": "stream",
     "text": [
      "[((316, 1084), 3.7665083178926624), ((504, 1084), 3.3753472067619534), ((424, 1084), 4.704164692426247), ((541, 1084), 4.358187335246602), ((181, 1084), 1.66438410960722), ((601, 1084), 4.783714111315147), ((821, 1084), 4.870640973922088), ((537, 1084), 2.88941706306429), ((330, 1084), 4.492273983165216), ((58, 1084), 4.332688047676562)]\n"
     ]
    }
   ],
   "source": [
    "import os.path\n",
    "from pyspark.mllib.recommendation import ALS, Rating\n",
    "\n",
    "# Read CSV file into a RDD\n",
    "file = os.path.join('Data', 'ratings.data')\n",
    "evalsRDD = sc.textFile(file)\n",
    "\n",
    "# Extract header by filtering it out\n",
    "header = evalsRDD.first()\n",
    "evalsRDD = evalsRDD.filter(lambda row: row != header)\n",
    "\n",
    "# Formatting and transforming the rdd into a Rating tuple: (user, item, rating)\n",
    "evalsFormatedRDD = (\n",
    "    evalsRDD\n",
    "    .map(lambda x: x.split())\n",
    "    .map(lambda x: Rating(x[0], x[1], float(x[2])))\n",
    ")\n",
    "\n",
    "# Training the model\n",
    "trainModel = ALS.train(evalsFormatedRDD, 10, 5)\n",
    "\n",
    "# Calculate the predictions\n",
    "testData = evalsFormatedRDD.map(lambda x: (x[0], x[1]))\n",
    "preds = trainModel.predictAll(testData).map(lambda x: ((x[0], x[1]), x[2]))\n",
    "\n",
    "print(preds.take(10))"
   ]
  },
  {
   "cell_type": "code",
   "execution_count": null,
   "metadata": {},
   "outputs": [],
   "source": []
  }
 ],
 "metadata": {
  "kernelspec": {
   "display_name": "Python 3",
   "language": "python",
   "name": "python3"
  },
  "language_info": {
   "codemirror_mode": {
    "name": "ipython",
    "version": 3
   },
   "file_extension": ".py",
   "mimetype": "text/x-python",
   "name": "python",
   "nbconvert_exporter": "python",
   "pygments_lexer": "ipython3",
   "version": "3.5.2"
  }
 },
 "nbformat": 4,
 "nbformat_minor": 2
}
