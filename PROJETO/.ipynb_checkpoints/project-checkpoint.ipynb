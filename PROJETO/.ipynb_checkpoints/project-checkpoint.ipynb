{
 "cells": [
  {
   "cell_type": "code",
   "execution_count": 1,
   "metadata": {},
   "outputs": [],
   "source": [
    "import re\n",
    "\n",
    "def removePunctuation(text):\n",
    "    \"\"\"Removes punctuation, and strips leading and trailing spaces.\n",
    "\n",
    "    Note:\n",
    "        Only letters, and numbers should be retained. \n",
    "        Other punctuation will be changed to a simple space.\n",
    "\n",
    "    Args:\n",
    "        text (str): A string.\n",
    "\n",
    "    Returns:\n",
    "        str: The cleaned up string.\n",
    "    \"\"\"\n",
    "    return re.sub(r'[^A-Za-z0-9 ]', ' ', text).strip()"
   ]
  },
  {
   "cell_type": "code",
   "execution_count": 2,
   "metadata": {},
   "outputs": [],
   "source": [
    "import os.path\n",
    "\n",
    "# Read CSV file into a RDD\n",
    "file = os.path.join('Data', 'ratings_700.csv')\n",
    "evalsRDD = sc.textFile(file, 4)\n",
    "    \n",
    "# Extract header by filtering it out\n",
    "header = evalsRDD.first()\n",
    "evalsRDD = evalsRDD.filter(lambda row: row != header)\n",
    "\n",
    "evalsFormatedRDD = (\n",
    "    evalsRDD\n",
    "    .map(removePunctuation)\n",
    "    .map(lambda x: x.split())\n",
    "    .map(lambda x: (x[0], (x[1], int(x[2]))))\n",
    "    .groupByKey(4)\n",
    "    .mapValues(dict)\n",
    ")\n",
    "\n",
    "evalsDict = dict(evalsFormatedRDD.take(1000))\n",
    "#evalsNumKeys = len(evalsDict)\n",
    "#print (evalsDict)\n",
    "#print (evalsNumKeys)"
   ]
  },
  {
   "cell_type": "code",
   "execution_count": 3,
   "metadata": {},
   "outputs": [],
   "source": [
    "class RecommendationSystem:\n",
    "\n",
    "    \"\"\"\n",
    "    RecommendationSystem take a dictionary containing user evaluations to items and recommend new items based on\n",
    "    Weighted SlopeOne Algorithm\n",
    "    \"\"\"\n",
    "\n",
    "    def __init__(self, data):\n",
    "        \"\"\" RecommendationSystem initialization\n",
    "        :param data: A dictionary containing a user identification and its evaluations (ranging 0-5) to items\n",
    "        :type data: dict\n",
    "        \"\"\"\n",
    "        self.freqs = {} # Frequencies dict, needed to SlopeOne algorithm\n",
    "        self.devs = {} # Deviations dict, needed to SlopeOne algorithm\n",
    "        if type(data).__name__ == 'dict': # Data need to be a dictionary \n",
    "            self.data = data\n",
    "\n",
    "    def calculateDeviations(self):\n",
    "        \"\"\" Deviations calculator: For each user we get their ratings for the items, them analyse each\n",
    "        one of the ratings and compute the frequencies when they are evaluated together and the \n",
    "        deviation between the evaluations\n",
    "            In the end we iterate through the deviations to divide each by its frequency\n",
    "        \"\"\"\n",
    "        for ratings in self.data.values():\n",
    "            for (i, first) in ratings.items():\n",
    "                self.freqs.setdefault(i, {})\n",
    "                self.devs.setdefault(i, {})\n",
    "                for (j, second) in ratings.items():\n",
    "                    if i != j:\n",
    "                        self.freqs[i].setdefault(j, 0)\n",
    "                        self.freqs[i][j] += 1\n",
    "                        self.devs[i].setdefault(j, 0.0)\n",
    "                        self.devs[i][j] += first - second\n",
    "                        \n",
    "        for (i, ratings) in self.devs.items():\n",
    "            for j in ratings:\n",
    "                ratings[j] /= self.freqs[i][j]\n",
    "        \n",
    "        \n",
    "    def slopeOne(self, userRatings):\n",
    "        \"\"\"\n",
    "        Slope One Recommender: For every item rated by the user and every item user didnt rate, we calculate the\n",
    "        possible rate that user could have done to the not rated items by the others ratings and item frequency\n",
    "        :param userRatings: A dictionary containing all items with evaluations that user had previous evaluated\n",
    "        :type userRatings: dict\n",
    "        :return: The recommendation result, a list of tuples \n",
    "        \"\"\"\n",
    "        recommendations = {}\n",
    "        freqs = {}\n",
    "\n",
    "        for (userItem, userRating) in userRatings.items():\n",
    "            for (diffItem, diffRatings) in self.devs.items():\n",
    "                if diffItem not in userRatings and userItem in self.devs[diffItem]:\n",
    "                    auxFreq = self.freqs[diffItem][userItem]\n",
    "                    recommendations.setdefault(diffItem, 0.0)\n",
    "                    freqs.setdefault(diffItem, 0)\n",
    "                    recommendations[diffItem] += (diffRatings[userItem] + userRating) * auxFreq\n",
    "                    freqs[diffItem] += auxFreq\n",
    "\n",
    "        recommendations = sc.parallelize([(x, y / freqs[x]) for (x, y) in recommendations.items()])\n",
    "        recommendationsSorted = recommendations.sortBy(lambda xy: xy[1], False)\n",
    "\n",
    "        return recommendationsSorted"
   ]
  },
  {
   "cell_type": "code",
   "execution_count": 4,
   "metadata": {
    "scrolled": true
   },
   "outputs": [
    {
     "data": {
      "text/plain": [
       "[('55895', 9.333333333333334),\n",
       " ('25938', 8.333333333333334),\n",
       " ('132424', 6.5),\n",
       " ('168910', 6.333333333333333),\n",
       " ('3906', 6.333333333333333),\n",
       " ('80191', 6.333333333333333),\n",
       " ('98246', 6.333333333333333),\n",
       " ('78160', 6.2),\n",
       " ('107024', 6.2),\n",
       " ('4212', 6.142857142857143)]"
      ]
     },
     "execution_count": 4,
     "metadata": {},
     "output_type": "execute_result"
    }
   ],
   "source": [
    "recommendation = RecommendationSystem(evalsDict)\n",
    "recommendation.calculateDeviations()\n",
    "user = evalsDict['131168']\n",
    "recommendation.slopeOne(user).take(10)"
   ]
  },
  {
   "cell_type": "code",
   "execution_count": null,
   "metadata": {},
   "outputs": [],
   "source": []
  }
 ],
 "metadata": {
  "kernelspec": {
   "display_name": "Python 3",
   "language": "python",
   "name": "python3"
  },
  "language_info": {
   "codemirror_mode": {
    "name": "ipython",
    "version": 3
   },
   "file_extension": ".py",
   "mimetype": "text/x-python",
   "name": "python",
   "nbconvert_exporter": "python",
   "pygments_lexer": "ipython3",
   "version": "3.5.2"
  }
 },
 "nbformat": 4,
 "nbformat_minor": 2
}
