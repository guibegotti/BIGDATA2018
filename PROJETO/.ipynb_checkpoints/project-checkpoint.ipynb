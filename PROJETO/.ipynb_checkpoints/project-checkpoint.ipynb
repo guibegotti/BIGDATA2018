{
 "cells": [
  {
   "cell_type": "code",
   "execution_count": 2,
   "metadata": {},
   "outputs": [],
   "source": [
    "import re\n",
    "\n",
    "def removePunctuation(text):\n",
    "    \"\"\"Removes punctuation, and strips leading and trailing spaces.\n",
    "\n",
    "    Note:\n",
    "        Only letters, and numbers should be retained. \n",
    "        Other punctuation will be changed to a simple space.\n",
    "\n",
    "    Args:\n",
    "        text (str): A string.\n",
    "\n",
    "    Returns:\n",
    "        str: The cleaned up string.\n",
    "    \"\"\"\n",
    "    return re.sub(r'[^A-Za-z0-9 ]', ' ', text).strip()"
   ]
  },
  {
   "cell_type": "code",
   "execution_count": 4,
   "metadata": {},
   "outputs": [],
   "source": [
    "import os.path\n",
    "\n",
    "# Read CSV file into a RDD\n",
    "file = os.path.join('Data', 'evals_table.csv')\n",
    "evalsRDD = sc.textFile(file, 4)\n",
    "\n",
    "# Extract header by filtering it out\n",
    "header = evalsRDD.first()\n",
    "evalsRDD = evalsRDD.filter(lambda row: row != header)\n",
    "\n",
    "evalsFormatedRDD = (\n",
    "                    evalsRDD\n",
    "                     .map(removePunctuation)\n",
    "                     .map(lambda x: x.split())\n",
    "                     .map(lambda x: (x[0], (x[1], x[2])))\n",
    "                     .groupByKey(4)\n",
    "                     .mapValues(dict)\n",
    "                   )\n",
    "\n",
    "evalsDict = dict(evalsFormatedRDD.collect())\n",
    "evalsNumKeys = len(evalsDict)\n",
    "#print (evalsDict)\n",
    "#print (evalsNumKeys)"
   ]
  },
  {
   "cell_type": "code",
   "execution_count": null,
   "metadata": {},
   "outputs": [],
   "source": []
  }
 ],
 "metadata": {
  "kernelspec": {
   "display_name": "Python 3",
   "language": "python",
   "name": "python3"
  },
  "language_info": {
   "codemirror_mode": {
    "name": "ipython",
    "version": 3
   },
   "file_extension": ".py",
   "mimetype": "text/x-python",
   "name": "python",
   "nbconvert_exporter": "python",
   "pygments_lexer": "ipython3",
   "version": "3.5.2"
  }
 },
 "nbformat": 4,
 "nbformat_minor": 2
}
